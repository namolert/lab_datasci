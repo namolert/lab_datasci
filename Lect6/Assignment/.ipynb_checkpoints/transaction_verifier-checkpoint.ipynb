{
 "cells": [
  {
   "cell_type": "code",
   "execution_count": 23,
   "id": "3d144bf2",
   "metadata": {},
   "outputs": [],
   "source": [
    "# import required libraries\n",
    "from kafka import KafkaConsumer, KafkaProducer\n",
    "import avro.schema\n",
    "import avro.io\n",
    "import io\n",
    "import hashlib, json\n",
    "import time\n",
    "from datetime import datetime"
   ]
  },
  {
   "cell_type": "code",
   "execution_count": 2,
   "id": "6234ffde",
   "metadata": {},
   "outputs": [],
   "source": [
    "def serialize(schema, obj):\n",
    "    bytes_writer = io.BytesIO()\n",
    "    encoder = avro.io.BinaryEncoder(bytes_writer)\n",
    "    writer = avro.io.DatumWriter(schema)\n",
    "    writer.write(obj, encoder)\n",
    "    return bytes_writer.getvalue()"
   ]
  },
  {
   "cell_type": "code",
   "execution_count": 3,
   "id": "5e1434bb",
   "metadata": {},
   "outputs": [],
   "source": [
    "def deserialize(schema, raw_bytes):\n",
    "    bytes_reader = io.BytesIO(raw_bytes)\n",
    "    decoder = avro.io.BinaryDecoder(bytes_reader)\n",
    "    reader = avro.io.DatumReader(schema)\n",
    "    return reader.read(decoder)"
   ]
  },
  {
   "cell_type": "code",
   "execution_count": 4,
   "id": "0e92e3e9",
   "metadata": {},
   "outputs": [],
   "source": [
    "schema_file = 'transaction.avsc'\n",
    "txschema = avro.schema.parse(open(schema_file).read())\n",
    "schema_file = 'submit.avsc'\n",
    "submitschema = avro.schema.parse(open(schema_file).read())\n",
    "schema_file = 'result.avsc'\n",
    "resultschema = avro.schema.parse(open(schema_file).read())"
   ]
  },
  {
   "cell_type": "code",
   "execution_count": 43,
   "id": "bcb5dc21",
   "metadata": {},
   "outputs": [],
   "source": [
    "# Connect to kafka broker running in your local host (docker). Change this to your kafka broker if needed\n",
    "kafka_broker = '35.240.149.229:9092'"
   ]
  },
  {
   "cell_type": "code",
   "execution_count": 101,
   "id": "0e05b4b0",
   "metadata": {},
   "outputs": [],
   "source": [
    "producer = KafkaProducer(bootstrap_servers=[kafka_broker])"
   ]
  },
  {
   "cell_type": "code",
   "execution_count": 123,
   "id": "4a2555a3",
   "metadata": {},
   "outputs": [],
   "source": [
    "txconsumer = KafkaConsumer(\n",
    "    'transaction',\n",
    "     bootstrap_servers=[kafka_broker],\n",
    "     enable_auto_commit=True,\n",
    "     value_deserializer=lambda x: deserialize(txschema, x))\n",
    "resultconsumer = KafkaConsumer(\n",
    "    'result',\n",
    "     bootstrap_servers=[kafka_broker],\n",
    "     enable_auto_commit=True,\n",
    "     value_deserializer=lambda x: deserialize(resultschema, x))"
   ]
  },
  {
   "cell_type": "code",
   "execution_count": 124,
   "id": "fe697a88",
   "metadata": {},
   "outputs": [],
   "source": [
    "def gen_signature(txid, payer, payee, amount, token):\n",
    "    o = {'txid': txid, 'payer': payer, 'payee': payee, 'amount': amount, 'token': token}\n",
    "    return hashlib.md5(json.dumps(o, sort_keys=True).encode('utf-8')).hexdigest()"
   ]
  },
  {
   "cell_type": "code",
   "execution_count": 125,
   "id": "315058be",
   "metadata": {},
   "outputs": [],
   "source": [
    "vid = 'V159934'\n",
    "mytoken = 'c0ebf253bfc452a882d70dc1736b99a4'"
   ]
  },
  {
   "cell_type": "code",
   "execution_count": 126,
   "id": "d801e5f0",
   "metadata": {},
   "outputs": [
    {
     "name": "stdout",
     "output_type": "stream",
     "text": [
      "{'timestamp': 1679672784, 'vid': 'V411709', 'txid': 'TX08487', 'checksum': '28bd03e41455223f248c5183fd3b4800', 'code': 200, 'message': 'Confirm'}\n"
     ]
    }
   ],
   "source": [
    "for message in txconsumer:\n",
    "    txid = message.value['txid']\n",
    "    payer = message.value['payer']\n",
    "    payee = message.value['payee']\n",
    "    amount = message.value['amount']\n",
    "    s = gen_signature(txid, payer, payee, amount, mytoken)\n",
    "    o = {'vid':vid, 'txid': txid, 'signature':s}\n",
    "    data = serialize(submitschema, o)\n",
    "    producer.send('result', data)\n",
    "    for message2 in resultconsumer:\n",
    "        print(message2.value)\n",
    "        break\n",
    "    break"
   ]
  },
  {
   "cell_type": "code",
   "execution_count": 127,
   "id": "9d0416b8",
   "metadata": {},
   "outputs": [],
   "source": [
    "txconsumer.close()"
   ]
  },
  {
   "cell_type": "code",
   "execution_count": null,
   "id": "6c8cd7b8",
   "metadata": {},
   "outputs": [],
   "source": []
  }
 ],
 "metadata": {
  "kernelspec": {
   "display_name": "Python 3 (ipykernel)",
   "language": "python",
   "name": "python3"
  },
  "language_info": {
   "codemirror_mode": {
    "name": "ipython",
    "version": 3
   },
   "file_extension": ".py",
   "mimetype": "text/x-python",
   "name": "python",
   "nbconvert_exporter": "python",
   "pygments_lexer": "ipython3",
   "version": "3.11.1"
  }
 },
 "nbformat": 4,
 "nbformat_minor": 5
}
